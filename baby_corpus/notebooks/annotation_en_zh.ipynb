{
  "nbformat": 4,
  "nbformat_minor": 0,
  "metadata": {
    "colab": {
      "provenance": []
    },
    "kernelspec": {
      "name": "python3",
      "display_name": "Python 3"
    },
    "language_info": {
      "name": "python"
    }
  },
  "cells": [
    {
      "cell_type": "code",
      "execution_count": null,
      "metadata": {
        "id": "e83V6VuUwM5b"
      },
      "outputs": [],
      "source": [
        "# !pip install -U pip setuptools wheel\n",
        "# !pip install -U spacy"
      ]
    },
    {
      "cell_type": "code",
      "source": [
        "# !python -m spacy download en_core_web_sm"
      ],
      "metadata": {
        "id": "hP1VkW20wz4Z"
      },
      "execution_count": null,
      "outputs": []
    },
    {
      "cell_type": "code",
      "source": [
        "import spacy\n",
        "import pandas as pd"
      ],
      "metadata": {
        "id": "y1bIdt2rw3KS",
        "colab": {
          "base_uri": "https://localhost:8080/"
        },
        "outputId": "73273f5c-c0b8-4061-b7fd-e2eb294c46e9"
      },
      "execution_count": 2,
      "outputs": [
        {
          "output_type": "stream",
          "name": "stderr",
          "text": [
            "/usr/local/lib/python3.8/dist-packages/torch/cuda/__init__.py:497: UserWarning: Can't initialize NVML\n",
            "  warnings.warn(\"Can't initialize NVML\")\n"
          ]
        }
      ]
    },
    {
      "cell_type": "code",
      "source": [
        "nlp_en = spacy.load(\"en_core_web_sm\")"
      ],
      "metadata": {
        "id": "hvB6H08cw3sq"
      },
      "execution_count": null,
      "outputs": []
    },
    {
      "cell_type": "code",
      "source": [
        "df = pd.read_csv(\"en_zh_pos_wa_anno.csv\", index_col=[0])"
      ],
      "metadata": {
        "id": "tjBRiFIX6_uD"
      },
      "execution_count": 3,
      "outputs": []
    },
    {
      "cell_type": "code",
      "source": [
        "df.head()"
      ],
      "metadata": {
        "colab": {
          "base_uri": "https://localhost:8080/",
          "height": 511
        },
        "id": "N8CdT-xM0CK5",
        "outputId": "abc97341-a059-4ff5-df95-e412e2f57d52"
      },
      "execution_count": 4,
      "outputs": [
        {
          "output_type": "execute_result",
          "data": {
            "text/plain": [
              "                                                  EN  \\\n",
              "0  70% Said they came to protest the police bruta...   \n",
              "1  The distinctive triangular shape of the ejecta...   \n",
              "2  The Sheffield Tramway was closed and a new sys...   \n",
              "3  Two of the first centers George Mason Universi...   \n",
              "4  Courts have been clear that Twitter statements...   \n",
              "\n",
              "                                                  ZH  \\\n",
              "0   70%的人说他们是来抗议11月30日晚警方的暴力行径54%的人来为支持与欧盟签订同盟协定而示威。   \n",
              "1               独特的三角状喷发物表明该陨石坑的形成可能源于一次自西南往东北的斜向撞击。   \n",
              "2                  谢菲尔德的有轨电车停止运营被包括内环线在内的新的道路系统取而代之。   \n",
              "3  最早的两个中心乔治梅森大学的历史与新媒体中心与维吉尼亚大学的维吉尼亚大学数字历史中心一直是数...   \n",
              "4                             多间法院已经清楚表示推文可以被用以证明故意。   \n",
              "\n",
              "                                              POS EN  \\\n",
              "0  70 NUM\\n% NOUN\\nSaid VERB\\nthey PRON\\ncame VER...   \n",
              "1  The DET\\ndistinctive ADJ\\ntriangular NOUN\\nsha...   \n",
              "2  The DET\\nSheffield PROPN\\nTramway PROPN\\nwas A...   \n",
              "3  Two NUM\\nof ADP\\nthe DET\\nfirst ADJ\\ncenters N...   \n",
              "4  Courts NOUN\\nhave AUX\\nbeen AUX\\nclear ADJ\\nth...   \n",
              "\n",
              "                                              POS ZH  \\\n",
              "0  70% NUM\\n的 PART\\n人 NOUN\\n说 VERB\\n他们 PRON\\n是 VE...   \n",
              "1  独特 VERB\\n的 PART\\n三角状喷 PROPN\\n发物 NOUN\\n表明 VERB\\...   \n",
              "2  谢菲尔德 PROPN\\n的 PART\\n有轨 VERB\\n电车 NOUN\\n停止 VERB\\...   \n",
              "3  最 ADV\\n早 VERB\\n的 PART\\n两 NUM\\n个 NUM\\n中心 NOUN\\n...   \n",
              "4  多间 ADJ\\n法院 NOUN\\n已经 ADV\\n清楚 ADV\\n表示 VERB\\n推文 V...   \n",
              "\n",
              "                                                  WA  \n",
              "0  0-0 1-3 2-4 3-1 4-6 5-7 6-5 7-8 8-8 10-10 10-1...  \n",
              "1  0-1 1-0 2-2 3-3 3-4 5-5 6-6 7-6 8-7 9-8 9-9 10...  \n",
              "2  0-1 1-0 2-2 3-1 4-3 4-4 8-6 9-6 10-7 11-8 12-9...  \n",
              "3  0-0 1-1 2-1 4-2 5-4 7-6 8-3 8-5 9-6 10-6 10-8 ...  \n",
              "4  0-0 1-1 2-1 3-2 3-3 4-3 5-4 6-5 7-6 8-6 8-7 9-...  "
            ],
            "text/html": [
              "\n",
              "  <div id=\"df-b4f47da1-fc04-46de-9398-f85ec176ff7b\">\n",
              "    <div class=\"colab-df-container\">\n",
              "      <div>\n",
              "<style scoped>\n",
              "    .dataframe tbody tr th:only-of-type {\n",
              "        vertical-align: middle;\n",
              "    }\n",
              "\n",
              "    .dataframe tbody tr th {\n",
              "        vertical-align: top;\n",
              "    }\n",
              "\n",
              "    .dataframe thead th {\n",
              "        text-align: right;\n",
              "    }\n",
              "</style>\n",
              "<table border=\"1\" class=\"dataframe\">\n",
              "  <thead>\n",
              "    <tr style=\"text-align: right;\">\n",
              "      <th></th>\n",
              "      <th>EN</th>\n",
              "      <th>ZH</th>\n",
              "      <th>POS EN</th>\n",
              "      <th>POS ZH</th>\n",
              "      <th>WA</th>\n",
              "    </tr>\n",
              "  </thead>\n",
              "  <tbody>\n",
              "    <tr>\n",
              "      <th>0</th>\n",
              "      <td>70% Said they came to protest the police bruta...</td>\n",
              "      <td>70%的人说他们是来抗议11月30日晚警方的暴力行径54%的人来为支持与欧盟签订同盟协定而示威。</td>\n",
              "      <td>70 NUM\\n% NOUN\\nSaid VERB\\nthey PRON\\ncame VER...</td>\n",
              "      <td>70% NUM\\n的 PART\\n人 NOUN\\n说 VERB\\n他们 PRON\\n是 VE...</td>\n",
              "      <td>0-0 1-3 2-4 3-1 4-6 5-7 6-5 7-8 8-8 10-10 10-1...</td>\n",
              "    </tr>\n",
              "    <tr>\n",
              "      <th>1</th>\n",
              "      <td>The distinctive triangular shape of the ejecta...</td>\n",
              "      <td>独特的三角状喷发物表明该陨石坑的形成可能源于一次自西南往东北的斜向撞击。</td>\n",
              "      <td>The DET\\ndistinctive ADJ\\ntriangular NOUN\\nsha...</td>\n",
              "      <td>独特 VERB\\n的 PART\\n三角状喷 PROPN\\n发物 NOUN\\n表明 VERB\\...</td>\n",
              "      <td>0-1 1-0 2-2 3-3 3-4 5-5 6-6 7-6 8-7 9-8 9-9 10...</td>\n",
              "    </tr>\n",
              "    <tr>\n",
              "      <th>2</th>\n",
              "      <td>The Sheffield Tramway was closed and a new sys...</td>\n",
              "      <td>谢菲尔德的有轨电车停止运营被包括内环线在内的新的道路系统取而代之。</td>\n",
              "      <td>The DET\\nSheffield PROPN\\nTramway PROPN\\nwas A...</td>\n",
              "      <td>谢菲尔德 PROPN\\n的 PART\\n有轨 VERB\\n电车 NOUN\\n停止 VERB\\...</td>\n",
              "      <td>0-1 1-0 2-2 3-1 4-3 4-4 8-6 9-6 10-7 11-8 12-9...</td>\n",
              "    </tr>\n",
              "    <tr>\n",
              "      <th>3</th>\n",
              "      <td>Two of the first centers George Mason Universi...</td>\n",
              "      <td>最早的两个中心乔治梅森大学的历史与新媒体中心与维吉尼亚大学的维吉尼亚大学数字历史中心一直是数...</td>\n",
              "      <td>Two NUM\\nof ADP\\nthe DET\\nfirst ADJ\\ncenters N...</td>\n",
              "      <td>最 ADV\\n早 VERB\\n的 PART\\n两 NUM\\n个 NUM\\n中心 NOUN\\n...</td>\n",
              "      <td>0-0 1-1 2-1 4-2 5-4 7-6 8-3 8-5 9-6 10-6 10-8 ...</td>\n",
              "    </tr>\n",
              "    <tr>\n",
              "      <th>4</th>\n",
              "      <td>Courts have been clear that Twitter statements...</td>\n",
              "      <td>多间法院已经清楚表示推文可以被用以证明故意。</td>\n",
              "      <td>Courts NOUN\\nhave AUX\\nbeen AUX\\nclear ADJ\\nth...</td>\n",
              "      <td>多间 ADJ\\n法院 NOUN\\n已经 ADV\\n清楚 ADV\\n表示 VERB\\n推文 V...</td>\n",
              "      <td>0-0 1-1 2-1 3-2 3-3 4-3 5-4 6-5 7-6 8-6 8-7 9-...</td>\n",
              "    </tr>\n",
              "  </tbody>\n",
              "</table>\n",
              "</div>\n",
              "      <button class=\"colab-df-convert\" onclick=\"convertToInteractive('df-b4f47da1-fc04-46de-9398-f85ec176ff7b')\"\n",
              "              title=\"Convert this dataframe to an interactive table.\"\n",
              "              style=\"display:none;\">\n",
              "        \n",
              "  <svg xmlns=\"http://www.w3.org/2000/svg\" height=\"24px\"viewBox=\"0 0 24 24\"\n",
              "       width=\"24px\">\n",
              "    <path d=\"M0 0h24v24H0V0z\" fill=\"none\"/>\n",
              "    <path d=\"M18.56 5.44l.94 2.06.94-2.06 2.06-.94-2.06-.94-.94-2.06-.94 2.06-2.06.94zm-11 1L8.5 8.5l.94-2.06 2.06-.94-2.06-.94L8.5 2.5l-.94 2.06-2.06.94zm10 10l.94 2.06.94-2.06 2.06-.94-2.06-.94-.94-2.06-.94 2.06-2.06.94z\"/><path d=\"M17.41 7.96l-1.37-1.37c-.4-.4-.92-.59-1.43-.59-.52 0-1.04.2-1.43.59L10.3 9.45l-7.72 7.72c-.78.78-.78 2.05 0 2.83L4 21.41c.39.39.9.59 1.41.59.51 0 1.02-.2 1.41-.59l7.78-7.78 2.81-2.81c.8-.78.8-2.07 0-2.86zM5.41 20L4 18.59l7.72-7.72 1.47 1.35L5.41 20z\"/>\n",
              "  </svg>\n",
              "      </button>\n",
              "      \n",
              "  <style>\n",
              "    .colab-df-container {\n",
              "      display:flex;\n",
              "      flex-wrap:wrap;\n",
              "      gap: 12px;\n",
              "    }\n",
              "\n",
              "    .colab-df-convert {\n",
              "      background-color: #E8F0FE;\n",
              "      border: none;\n",
              "      border-radius: 50%;\n",
              "      cursor: pointer;\n",
              "      display: none;\n",
              "      fill: #1967D2;\n",
              "      height: 32px;\n",
              "      padding: 0 0 0 0;\n",
              "      width: 32px;\n",
              "    }\n",
              "\n",
              "    .colab-df-convert:hover {\n",
              "      background-color: #E2EBFA;\n",
              "      box-shadow: 0px 1px 2px rgba(60, 64, 67, 0.3), 0px 1px 3px 1px rgba(60, 64, 67, 0.15);\n",
              "      fill: #174EA6;\n",
              "    }\n",
              "\n",
              "    [theme=dark] .colab-df-convert {\n",
              "      background-color: #3B4455;\n",
              "      fill: #D2E3FC;\n",
              "    }\n",
              "\n",
              "    [theme=dark] .colab-df-convert:hover {\n",
              "      background-color: #434B5C;\n",
              "      box-shadow: 0px 1px 3px 1px rgba(0, 0, 0, 0.15);\n",
              "      filter: drop-shadow(0px 1px 2px rgba(0, 0, 0, 0.3));\n",
              "      fill: #FFFFFF;\n",
              "    }\n",
              "  </style>\n",
              "\n",
              "      <script>\n",
              "        const buttonEl =\n",
              "          document.querySelector('#df-b4f47da1-fc04-46de-9398-f85ec176ff7b button.colab-df-convert');\n",
              "        buttonEl.style.display =\n",
              "          google.colab.kernel.accessAllowed ? 'block' : 'none';\n",
              "\n",
              "        async function convertToInteractive(key) {\n",
              "          const element = document.querySelector('#df-b4f47da1-fc04-46de-9398-f85ec176ff7b');\n",
              "          const dataTable =\n",
              "            await google.colab.kernel.invokeFunction('convertToInteractive',\n",
              "                                                     [key], {});\n",
              "          if (!dataTable) return;\n",
              "\n",
              "          const docLinkHtml = 'Like what you see? Visit the ' +\n",
              "            '<a target=\"_blank\" href=https://colab.research.google.com/notebooks/data_table.ipynb>data table notebook</a>'\n",
              "            + ' to learn more about interactive tables.';\n",
              "          element.innerHTML = '';\n",
              "          dataTable['output_type'] = 'display_data';\n",
              "          await google.colab.output.renderOutput(dataTable, element);\n",
              "          const docLink = document.createElement('div');\n",
              "          docLink.innerHTML = docLinkHtml;\n",
              "          element.appendChild(docLink);\n",
              "        }\n",
              "      </script>\n",
              "    </div>\n",
              "  </div>\n",
              "  "
            ]
          },
          "metadata": {},
          "execution_count": 4
        }
      ]
    },
    {
      "cell_type": "code",
      "source": [
        "# en pos tagging\n",
        "# parse and write in dataframe with all tokens and pos tags aligned with the same sentence\n",
        "# format: token tag \\newline\n",
        "for i in df['en'].index:\n",
        "  stc_parsed = nlp_en(str(df['en'][i]))\n",
        "  for token in stc_parsed:\n",
        "    if token == stc_parsed[0]:\n",
        "      df['pos_en'][i] = token.text + \" \" + token.pos_ + \"\\n\"\n",
        "    elif token == stc_parsed[-1]:\n",
        "      df['pos_en'][i] = df['pos_en'][i] + token.text + \" \" + token.pos_\n",
        "    else:\n",
        "      df['pos_en'][i] = df['pos_en'][i] + token.text + \" \" + token.pos_ + \"\\n\""
      ],
      "metadata": {
        "colab": {
          "base_uri": "https://localhost:8080/"
        },
        "id": "KaAIZ3NE0EV5",
        "outputId": "c305c5fd-23f8-41db-ac49-123c34fada10"
      },
      "execution_count": null,
      "outputs": [
        {
          "output_type": "stream",
          "name": "stderr",
          "text": [
            "/usr/local/lib/python3.7/dist-packages/ipykernel_launcher.py:8: SettingWithCopyWarning: \n",
            "A value is trying to be set on a copy of a slice from a DataFrame\n",
            "\n",
            "See the caveats in the documentation: https://pandas.pydata.org/pandas-docs/stable/user_guide/indexing.html#returning-a-view-versus-a-copy\n",
            "  \n",
            "/usr/local/lib/python3.7/dist-packages/ipykernel_launcher.py:12: SettingWithCopyWarning: \n",
            "A value is trying to be set on a copy of a slice from a DataFrame\n",
            "\n",
            "See the caveats in the documentation: https://pandas.pydata.org/pandas-docs/stable/user_guide/indexing.html#returning-a-view-versus-a-copy\n",
            "  if sys.path[0] == '':\n",
            "/usr/local/lib/python3.7/dist-packages/ipykernel_launcher.py:10: SettingWithCopyWarning: \n",
            "A value is trying to be set on a copy of a slice from a DataFrame\n",
            "\n",
            "See the caveats in the documentation: https://pandas.pydata.org/pandas-docs/stable/user_guide/indexing.html#returning-a-view-versus-a-copy\n",
            "  # Remove the CWD from sys.path while we load stuff.\n"
          ]
        }
      ]
    },
    {
      "cell_type": "code",
      "source": [
        "import jieba\n",
        "import jieba.posseg as pseg"
      ],
      "metadata": {
        "id": "iY6y7tKl00KV"
      },
      "execution_count": null,
      "outputs": []
    },
    {
      "cell_type": "code",
      "source": [
        "# zh pos tagging\n",
        "for i in df['zh'].index:\n",
        "  words = pseg.cut(str(df['zh'][i]), use_paddle = True)\n",
        "  anno = [[], []]\n",
        "  for word, flag in words:\n",
        "    if word != \" \":\n",
        "      anno[0].append(word)\n",
        "      anno[1].append(flag)\n",
        "  for j in range(len(anno[0])):\n",
        "    if j == 0:\n",
        "      df['pos_zh'][i] = anno[0][j] + \" \" + anno[1][j] + \"\\n\"\n",
        "    elif j == -1:\n",
        "      df['pos_zh'][i] = df['pos_zh'][i] + anno[0][j] + \" \" + anno[1][j]\n",
        "    else:\n",
        "      df['pos_zh'][i] = df['pos_zh'][i] + anno[0][j] + \" \" + anno[1][j] + \"\\n\""
      ],
      "metadata": {
        "colab": {
          "base_uri": "https://localhost:8080/"
        },
        "id": "SRpMZ4BgxzAi",
        "outputId": "3e0f8335-1c9e-4459-e75b-c8427cfad383"
      },
      "execution_count": null,
      "outputs": [
        {
          "output_type": "stream",
          "name": "stderr",
          "text": [
            "/usr/local/lib/python3.7/dist-packages/ipykernel_launcher.py:10: SettingWithCopyWarning: \n",
            "A value is trying to be set on a copy of a slice from a DataFrame\n",
            "\n",
            "See the caveats in the documentation: https://pandas.pydata.org/pandas-docs/stable/user_guide/indexing.html#returning-a-view-versus-a-copy\n",
            "  # Remove the CWD from sys.path while we load stuff.\n",
            "/usr/local/lib/python3.7/dist-packages/ipykernel_launcher.py:14: SettingWithCopyWarning: \n",
            "A value is trying to be set on a copy of a slice from a DataFrame\n",
            "\n",
            "See the caveats in the documentation: https://pandas.pydata.org/pandas-docs/stable/user_guide/indexing.html#returning-a-view-versus-a-copy\n",
            "  \n"
          ]
        }
      ]
    },
    {
      "cell_type": "code",
      "source": [
        "df.to_csv(\"/content/anno_new.csv\", index=False)"
      ],
      "metadata": {
        "id": "_Nky1XPJ8sUk"
      },
      "execution_count": null,
      "outputs": []
    }
  ]
}